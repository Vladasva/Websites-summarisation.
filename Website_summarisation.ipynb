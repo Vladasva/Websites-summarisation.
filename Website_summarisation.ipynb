{
 "cells": [
  {
   "cell_type": "markdown",
   "id": "faa27d9c",
   "metadata": {},
   "source": [
    "Lets import needed libraries for our project."
   ]
  },
  {
   "cell_type": "code",
   "execution_count": 5,
   "id": "250b7e6a",
   "metadata": {},
   "outputs": [],
   "source": [
    "import requests\n",
    "from bs4 import BeautifulSoup\n",
    "from selenium import webdriver\n",
    "from IPython.display import Markdown, display"
   ]
  },
  {
   "cell_type": "markdown",
   "id": "19a77077",
   "metadata": {},
   "source": [
    "Lets define our constants. Ollama local host, headers and model."
   ]
  },
  {
   "cell_type": "code",
   "execution_count": 6,
   "id": "fe643c67",
   "metadata": {},
   "outputs": [],
   "source": [
    "OLLAMA_API = \"http://localhost:11434/api/chat\"\n",
    "HEADERS = {\"Content-Type\": \"application/json\"}\n",
    "MODEL = \"llama3.2\""
   ]
  },
  {
   "cell_type": "markdown",
   "id": "faf52b5c",
   "metadata": {},
   "source": [
    "Lets create a \"Website\" class, which will webscrap the desired site. To do that we will use BeautifulSoup library."
   ]
  },
  {
   "cell_type": "code",
   "execution_count": 7,
   "id": "5c57bd2d",
   "metadata": {},
   "outputs": [],
   "source": [
    "class Website:\n",
    "    \n",
    "    def __init__(self, url):\n",
    "        self.url = url\n",
    "        response = requests.get(url)\n",
    "        soup = BeautifulSoup(response.content, 'html.parser')\n",
    "        self.title = soup.title.string if soup.title else \"No title found\"\n",
    "        for irrelevant in soup.body([\"script\", \"style\", \"img\", \"input\"]):\n",
    "            irrelevant.decompose()\n",
    "        self.text = soup.body.get_text(separator=\"\\n\", strip=True)"
   ]
  },
  {
   "cell_type": "markdown",
   "id": "8b3e236a",
   "metadata": {},
   "source": [
    "Lets define our task for LLM as a promt."
   ]
  },
  {
   "cell_type": "code",
   "execution_count": 8,
   "id": "5da65d41",
   "metadata": {},
   "outputs": [],
   "source": [
    "system_prompt = \"You are an assistant that analyzes the contents of a website \\\n",
    "and provides a short summary, ignoring text that might be navigation related. \\\n",
    "Respond in markdown.\""
   ]
  },
  {
   "cell_type": "markdown",
   "id": "354b2780",
   "metadata": {},
   "source": [
    "Here we will define a function that writes a User Prompt that asks for summaries of websites."
   ]
  },
  {
   "cell_type": "code",
   "execution_count": 9,
   "id": "25998bc2",
   "metadata": {},
   "outputs": [],
   "source": [
    "def user_prompt_for(website):\n",
    "    user_prompt = f\"You are looking at a website titled {website.title}\"\n",
    "    user_prompt += \"\\nThe contents of this website is as follows; \\\n",
    "please provide a short summary of this website in markdown. \\\n",
    "If it includes news or announcements, then summarize these too.\\n\\n\"\n",
    "    user_prompt += website.text\n",
    "    return user_prompt"
   ]
  },
  {
   "cell_type": "markdown",
   "id": "89cccde3",
   "metadata": {},
   "source": [
    "This function defines the format"
   ]
  },
  {
   "cell_type": "code",
   "execution_count": 10,
   "id": "c297d5e2",
   "metadata": {},
   "outputs": [],
   "source": [
    "def messages_for(website):\n",
    "    return [\n",
    "        {\"role\": \"system\", \"content\": system_prompt},\n",
    "        {\"role\": \"user\", \"content\": user_prompt_for(website)}\n",
    "    ]"
   ]
  },
  {
   "cell_type": "markdown",
   "id": "e9b4ace4",
   "metadata": {},
   "source": [
    "This function actually talks with Ollama model."
   ]
  },
  {
   "cell_type": "code",
   "execution_count": 11,
   "id": "61402256",
   "metadata": {},
   "outputs": [],
   "source": [
    "def summarize(url):\n",
    "    website = Website(url)\n",
    "    payload = {\n",
    "        \"model\": MODEL,\n",
    "        \"messages\": messages_for(website),\n",
    "        \"stream\": False\n",
    "    }\n",
    "    \n",
    "    response = requests.post(OLLAMA_API, json=payload, headers=HEADERS)\n",
    "    return response.json()['message']['content']"
   ]
  },
  {
   "cell_type": "markdown",
   "id": "cb900fa2",
   "metadata": {},
   "source": [
    "Lets call the function \"summarize\"."
   ]
  },
  {
   "cell_type": "code",
   "execution_count": 12,
   "id": "bbd45ffb",
   "metadata": {},
   "outputs": [
    {
     "data": {
      "text/plain": [
       "\"### Summary of Stytch\\n\\n**Mission**\\nBuild auth that's seamless, easy to implement, and scalable for any scale.\\n\\n**Product Features**\\n\\n*   **Developer Infrastructure**: Pre-built UI, headless frontend SDKs, backend APIs and SDKs, purpose-built options for consumer and multi-tenant apps.\\n*   **Fraud and Risk Prevention**: Fingerprinting with 99.99% accurate bot detection, reliable risk verdicts to Allow, Block or Challenge visitors, strong invisible CAPTCHA, adaptive MFA.\\n*   **Future-proof Infrastructure**: Scalable user + org data models, secure account deduplication, primary and secondary auth options with email and SMS provider failover.\\n\\n**Benefits**\\n\\n*   Simplify auth for developers\\n*   Reduce time spent on auth (tenth of original time)\\n*   Support both SAML and OIDC protocols for Single Sign On\\n\\n### News and Announcements\\n\\n*   Tens of millions of users migrated from Auth0 to Stytch in under a month.\\n\\n**Comparison**\\n\\nStytch vs. other auth providers:\\n*   [Stytch vs. Auth0](#stytch-vs-auth0)\\n*   [Stytch vs. Firebase](#stytch-vs-firebase)\\n*   [Stytch vs. Cognito](#stytch-vs-cognito)\""
      ]
     },
     "execution_count": 12,
     "metadata": {},
     "output_type": "execute_result"
    }
   ],
   "source": [
    "summarize(\"https://stytch.com/\")"
   ]
  },
  {
   "cell_type": "markdown",
   "id": "475f9e33",
   "metadata": {},
   "source": [
    "Here we will create a function to display the result nicely in the Jupyter output, using markdown."
   ]
  },
  {
   "cell_type": "code",
   "execution_count": 13,
   "id": "3777650e",
   "metadata": {},
   "outputs": [],
   "source": [
    "def display_summary(url):\n",
    "    summary = summarize(url)\n",
    "    display(Markdown(summary))"
   ]
  },
  {
   "cell_type": "markdown",
   "id": "32d7a294",
   "metadata": {},
   "source": [
    "Lets call \"display_summary\" function."
   ]
  },
  {
   "cell_type": "code",
   "execution_count": 14,
   "id": "88f9caa7",
   "metadata": {},
   "outputs": [
    {
     "data": {
      "text/markdown": [
       "# Stytch - A Better Way to Build Authentication\n",
       "\n",
       "## Overview\n",
       "\n",
       "Stytch is a cloud-based authentication platform designed to simplify the process of building and managing authentication flows for web, mobile, and backend applications. The platform offers a range of features, including pre-built UIs, APIs, SDKs, and fraud prevention capabilities.\n",
       "\n",
       "### Key Features\n",
       "\n",
       "* Pre-built UIs and SDKs for authentication and authorization\n",
       "* Flexible developer infrastructure with unparalleled flexibility\n",
       "* Fraud and risk prevention capabilities with 99.99% accurate bot detection\n",
       "* Scalable user and organization data models\n",
       "* Support for Single Sign-On (SSO) protocols like SAML and OIDC\n",
       "* Multi-factor authentication options, including RBAC, JIT Provisioning, and more\n",
       "\n",
       "## News and Announcements\n",
       "\n",
       "### Recent Migration Success Stories\n",
       "\n",
       "Stytch has successfully migrated tens of millions of users from Auth0 to Stytch in under a month. This migration showcases the platform's ease of use and scalability.\n",
       "\n",
       "### Developer Testimonials\n",
       "\n",
       "* \"We cut the time spent on authentication flows by 75% after switching to Stytch.\" - [Developer Testimonial]\n",
       "* \"Stytch's pre-built UIs saved us weeks of development time. We love it!\" - [Developer Testimonial]\n",
       "\n",
       "## Industries Served\n",
       "\n",
       "Stytch serves a variety of industries, including:\n",
       "\n",
       "* SaaS\n",
       "* Ecommerce\n",
       "* Fintech\n",
       "* Web3\n",
       "* Consumer tech\n",
       "* Healthcare"
      ],
      "text/plain": [
       "<IPython.core.display.Markdown object>"
      ]
     },
     "metadata": {},
     "output_type": "display_data"
    }
   ],
   "source": [
    "display_summary(\"https://stytch.com/\")"
   ]
  },
  {
   "cell_type": "code",
   "execution_count": null,
   "id": "ce5e3c9d",
   "metadata": {},
   "outputs": [],
   "source": []
  },
  {
   "cell_type": "code",
   "execution_count": null,
   "id": "984e2778",
   "metadata": {},
   "outputs": [],
   "source": []
  }
 ],
 "metadata": {
  "kernelspec": {
   "display_name": "Python 3 (ipykernel)",
   "language": "python",
   "name": "python3"
  },
  "language_info": {
   "codemirror_mode": {
    "name": "ipython",
    "version": 3
   },
   "file_extension": ".py",
   "mimetype": "text/x-python",
   "name": "python",
   "nbconvert_exporter": "python",
   "pygments_lexer": "ipython3",
   "version": "3.10.12"
  }
 },
 "nbformat": 4,
 "nbformat_minor": 5
}
